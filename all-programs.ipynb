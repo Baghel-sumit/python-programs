{
 "cells": [
  {
   "cell_type": "markdown",
   "metadata": {},
   "source": [
    "For loop"
   ]
  },
  {
   "cell_type": "code",
   "execution_count": 3,
   "metadata": {},
   "outputs": [
    {
     "name": "stdout",
     "output_type": "stream",
     "text": [
      "0\n",
      "1\n",
      "2\n",
      "3\n",
      "4\n",
      "Printing a tuple\n",
      "1\n",
      "2\n",
      "3\n",
      "6\n",
      "4\n",
      "5\n",
      "5\n"
     ]
    }
   ],
   "source": [
    "for i in range(5):\n",
    "    print(i)\n",
    "\n",
    "print('Printing a tuple')\n",
    "a = [1, 2, 3, 6, 4, 5, 5]\n",
    "for item in a:\n",
    "    print(item)"
   ]
  },
  {
   "cell_type": "markdown",
   "metadata": {},
   "source": [
    "Dictionaries"
   ]
  },
  {
   "cell_type": "code",
   "execution_count": 2,
   "metadata": {},
   "outputs": [
    {
     "name": "stdout",
     "output_type": "stream",
     "text": [
      "printing table {'Good': 'Something pleasant', 'fetch': 'to the per'}\n",
      "{'Good': 'Something pleasant', 'fetch': 'to the per', 'priyanka': 34}\n",
      "None\n",
      "dict_keys(['Good', 'fetch', 'priyanka'])\n",
      "dict_values(['Something pleasant', 'to the per', 34])\n"
     ]
    }
   ],
   "source": [
    "\"\"\"\n",
    "a = {}\n",
    "b = {}\n",
    "print(type(a))\n",
    "print(type(b))\n",
    "\"\"\"\n",
    "\n",
    "dict1 = {\n",
    "    \"Good\": \"Something pleasant\",\n",
    "    \"fetch\": \"to the per\"\n",
    "}\n",
    "\n",
    "print('printing table', dict1)\n",
    "\n",
    "dict1[\"priyanka\"] = 34\n",
    "print(dict1)\n",
    "print(dict1.get(\"priyanka chopra\"))\n",
    "print(dict1.keys())\n",
    "print(dict1.values())"
   ]
  }
 ],
 "metadata": {
  "kernelspec": {
   "display_name": "Python 3",
   "language": "python",
   "name": "python3"
  },
  "language_info": {
   "codemirror_mode": {
    "name": "ipython",
    "version": 3
   },
   "file_extension": ".py",
   "mimetype": "text/x-python",
   "name": "python",
   "nbconvert_exporter": "python",
   "pygments_lexer": "ipython3",
   "version": "3.12.0"
  }
 },
 "nbformat": 4,
 "nbformat_minor": 2
}
